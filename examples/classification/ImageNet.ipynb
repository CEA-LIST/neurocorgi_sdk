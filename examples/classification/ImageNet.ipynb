{
 "cells": [
  {
   "cell_type": "code",
   "execution_count": null,
   "metadata": {},
   "outputs": [],
   "source": [
    "import torch\n",
    "from tqdm import tqdm\n",
    "import matplotlib.pyplot as plt\n",
    "from torchvision import transforms, datasets\n",
    "from neurocorgi_sdk import NeuroCorgiNet, Head4ImageNet\n",
    "from neurocorgi_sdk.transforms import ToNeuroCorgiChip"
   ]
  },
  {
   "cell_type": "code",
   "execution_count": null,
   "metadata": {},
   "outputs": [],
   "source": [
    "# If possible, set up the GPU 0 for the application\n",
    "device = torch.device(\"cuda:0\" if torch.cuda.is_available() else \"cpu\")"
   ]
  },
  {
   "cell_type": "code",
   "execution_count": null,
   "metadata": {},
   "outputs": [],
   "source": [
    "imagenet_path = \"/datasets/imagenet\"\n",
    "transform_val = transforms.Compose([transforms.Resize(256),\n",
    "                                    transforms.CenterCrop(224),\n",
    "                                    transforms.ToTensor(),\n",
    "                                    ToNeuroCorgiChip()\n",
    "                                    ])\n",
    "\n",
    "validation_dataset = datasets.ImageFolder(f\"{imagenet_path}/val\", transform=transform_val)\n",
    "\n",
    "validation_loader = torch.utils.data.DataLoader(validation_dataset, batch_size=1, shuffle=False)"
   ]
  },
  {
   "cell_type": "code",
   "execution_count": null,
   "metadata": {},
   "outputs": [],
   "source": [
    "model = NeuroCorgiNet(\"neurocorginet_imagenet.safetensors\")\n",
    "model.to(device)"
   ]
  },
  {
   "cell_type": "code",
   "execution_count": null,
   "metadata": {},
   "outputs": [],
   "source": [
    "head = Head4ImageNet(\"neurocorginet_head_imagenet.safetensors\")\n",
    "head.to(device)"
   ]
  },
  {
   "cell_type": "code",
   "execution_count": null,
   "metadata": {},
   "outputs": [],
   "source": [
    "pbar = tqdm(validation_loader)\n",
    "val_correct = 0\n",
    "\n",
    "with torch.no_grad():\n",
    "    for i, (inputs, labels) in enumerate(pbar):\n",
    "        inputs = inputs.to(device)\n",
    "        labels = labels.to(device)\n",
    "\n",
    "        div4, div8, div16, div32 = model(inputs)\n",
    "        out = head(div32)\n",
    "\n",
    "        _, val_preds = torch.max(out, 1)\n",
    "        val_correct += torch.sum(val_preds == labels.data)\n",
    "        accuracy = (val_correct / i) * 100\n",
    "\n",
    "        pbar.set_description_str(f\"Torch model - ImageNet test accuracy: {accuracy:.2f}%\")"
   ]
  },
  {
   "cell_type": "code",
   "execution_count": null,
   "metadata": {},
   "outputs": [],
   "source": [
    "def im_convert(tensor):\n",
    "    image = tensor.cpu().clone().detach().numpy()\n",
    "    image = image.transpose(1, 2, 0)\n",
    "    image = image.clip(0, 1)\n",
    "    image = image / 255\n",
    "    return image"
   ]
  },
  {
   "cell_type": "code",
   "execution_count": null,
   "metadata": {},
   "outputs": [],
   "source": [
    "import requests\n",
    "from PIL import Image\n",
    "\n",
    "url = \"https://media.os.fressnapf.com/cms/2020/07/ratgeber_hund_rasse_portraits_welsh-corgi-pembroke_1200x527.jpg?t=cmsimg_920\"\n",
    "response = requests.get(url, stream=True)\n",
    "img = Image.open(response.raw)\n",
    "plt.imshow(img)"
   ]
  },
  {
   "cell_type": "code",
   "execution_count": null,
   "metadata": {},
   "outputs": [],
   "source": [
    "img = transform_val(img) \n",
    "plt.imshow(im_convert(img))"
   ]
  },
  {
   "cell_type": "code",
   "execution_count": null,
   "metadata": {},
   "outputs": [],
   "source": [
    "# Dog image expected label: 263: 'Pembroke, Pembroke Welsh corgi'\n",
    "# See https://gist.github.com/yrevar/942d3a0ac09ec9e5eb3a\n",
    "image = img.to(device).unsqueeze(0)\n",
    "\n",
    "# Inference\n",
    "div4, div8, div16, div32 = model(image)\n",
    "out = head(div32)\n",
    "print(torch.topk(out.flatten(), 5))"
   ]
  }
 ],
 "metadata": {
  "kernelspec": {
   "display_name": "env",
   "language": "python",
   "name": "python3"
  },
  "language_info": {
   "name": "python",
   "version": "3.8.10"
  }
 },
 "nbformat": 4,
 "nbformat_minor": 2
}
