{
 "cells": [
  {
   "cell_type": "code",
   "execution_count": null,
   "metadata": {},
   "outputs": [],
   "source": [
    "import math\n",
    "import n2d2\n",
    "import neurocorgi_sdk\n",
    "from n2d2 import transform"
   ]
  },
  {
   "cell_type": "code",
   "execution_count": 2,
   "metadata": {},
   "outputs": [],
   "source": [
    "# Change default model in N2D2 to use GPU\n",
    "n2d2.global_variables.default_model = \"Frame_CUDA\"\n",
    "n2d2.global_variables.verbosity = 0\n",
    "n2d2.global_variables.cuda_device = 1"
   ]
  },
  {
   "cell_type": "code",
   "execution_count": 3,
   "metadata": {},
   "outputs": [],
   "source": [
    "# Path to ImageNet dataset\n",
    "ILSVRC2012_root = \"/data1/is156025/DATABASE/ILSVRC2012\"\n",
    "\n",
    "# Path to ImageNet labels\n",
    "ILSVRC2012_label_path = ILSVRC2012_root + \"/synsets.txt\""
   ]
  },
  {
   "cell_type": "code",
   "execution_count": 5,
   "metadata": {},
   "outputs": [],
   "source": [
    "# Create a dataloader\n",
    "database = n2d2.database.ILSVRC2012(learn=1.0, random_partitioning=False)\n",
    "database.load(ILSVRC2012_root, label_path=ILSVRC2012_label_path)\n",
    "\n",
    "dataloader = n2d2.provider.DataProvider(database, [224, 224, 3], batch_size=1)"
   ]
  },
  {
   "cell_type": "code",
   "execution_count": 6,
   "metadata": {},
   "outputs": [],
   "source": [
    "# Add transformations\n",
    "transformations = transform.Composite([\n",
    "    transform.ColorSpace(color_space='RGB'),\n",
    "    transform.RangeAffine(first_operator='Divides', first_value=[255.0]),\n",
    "    transform.RandomResizeCrop(224, 224, scale_min=0.2, scale_max=1.0, ratio_min=0.75, ratio_max=1.33, apply_to='LearnOnly'),\n",
    "    transform.Rescale(256, 256, keep_aspect_ratio=True, resize_to_fit=False, apply_to='NoLearn'),\n",
    "    transform.PadCrop(256, 256, apply_to='NoLearn'),\n",
    "    transform.SliceExtraction(224, 224, offset_x=16, offset_y=16, apply_to='NoLearn'),\n",
    "    transform.RangeAffine(first_operator='Multiplies', first_value=[255.0]),\n",
    "])\n",
    "\n",
    "dataloader.add_transformation(transformations)"
   ]
  },
  {
   "cell_type": "code",
   "execution_count": 7,
   "metadata": {},
   "outputs": [
    {
     "name": "stdout",
     "output_type": "stream",
     "text": [
      "Adding cell (extractor) : bn1\n",
      "Adding cell (extractor) : bn1_3x3_dw\n",
      "Adding cell (extractor) : bn1_1x1\n",
      "Adding cell (extractor) : bn2_3x3_dw\n",
      "Adding cell (extractor) : bn2_1x1\n",
      "Adding cell (extractor) : bn3_3x3_dw\n",
      "Adding cell (extractor) : bn3_1x1\n",
      "Adding cell (extractor) : bn4_3x3_dw\n",
      "Adding cell (extractor) : bn4_1x1\n",
      "Adding cell (extractor) : bn5_3x3_dw\n",
      "Adding cell (extractor) : bn5_1x1\n",
      "Adding cell (extractor) : bn6_3x3_dw\n",
      "Adding cell (extractor) : bn6_1x1\n",
      "Adding cell (extractor) : bn7_1_3x3_dw\n",
      "Adding cell (extractor) : bn7_1_1x1\n",
      "Adding cell (extractor) : bn7_2_3x3_dw\n",
      "Adding cell (extractor) : bn7_2_1x1\n",
      "Adding cell (extractor) : bn7_3_3x3_dw\n",
      "Adding cell (extractor) : bn7_3_1x1\n",
      "Adding cell (extractor) : bn7_4_3x3_dw\n",
      "Adding cell (extractor) : bn7_4_1x1\n",
      "Adding cell (extractor) : bn7_5_3x3_dw\n",
      "Adding cell (extractor) : bn7_5_1x1\n",
      "Adding cell (extractor) : bn8_3x3_dw\n",
      "Adding cell (extractor) : bn8_1x1\n",
      "Adding cell (extractor) : bn9_3x3_dw\n",
      "Adding cell (extractor) : bn9_1x1\n",
      "Import ../andante/weights/conv1.syntxt\n",
      "Import ../andante/weights/conv1_3x3_dw.syntxt\n",
      "Import ../andante/weights/conv1_1x1.syntxt\n",
      "Import ../andante/weights/bn1.syntxt\n",
      "Import ../andante/weights/bn1_3x3_dw.syntxt\n",
      "Import ../andante/weights/bn1_1x1.syntxt\n",
      "Import ../andante/weights/conv2_3x3_dw.syntxt\n",
      "Import ../andante/weights/conv2_1x1.syntxt\n",
      "Import ../andante/weights/conv3_3x3_dw.syntxt\n",
      "Import ../andante/weights/conv3_1x1.syntxt\n",
      "Import ../andante/weights/bn2_3x3_dw.syntxt\n",
      "Import ../andante/weights/bn2_1x1.syntxt\n",
      "Import ../andante/weights/bn3_3x3_dw.syntxt\n",
      "Import ../andante/weights/bn3_1x1.syntxt\n",
      "Import ../andante/weights/conv4_3x3_dw.syntxt\n",
      "Import ../andante/weights/conv4_1x1.syntxt\n",
      "Import ../andante/weights/conv5_3x3_dw.syntxt\n",
      "Import ../andante/weights/conv5_1x1.syntxt\n",
      "Import ../andante/weights/bn4_3x3_dw.syntxt\n",
      "Import ../andante/weights/bn4_1x1.syntxt\n",
      "Import ../andante/weights/bn5_3x3_dw.syntxt\n",
      "Import ../andante/weights/bn5_1x1.syntxt\n",
      "Import ../andante/weights/conv6_3x3_dw.syntxt\n",
      "Import ../andante/weights/conv6_1x1.syntxt\n",
      "Import ../andante/weights/conv7_1_3x3_dw.syntxt\n",
      "Import ../andante/weights/conv7_1_1x1.syntxt\n",
      "Import ../andante/weights/conv7_2_3x3_dw.syntxt\n",
      "Import ../andante/weights/conv7_2_1x1.syntxt\n",
      "Import ../andante/weights/conv7_3_3x3_dw.syntxt\n",
      "Import ../andante/weights/conv7_3_1x1.syntxt\n",
      "Import ../andante/weights/conv7_4_3x3_dw.syntxt\n",
      "Import ../andante/weights/conv7_4_1x1.syntxt\n",
      "Import ../andante/weights/conv7_5_3x3_dw.syntxt\n",
      "Import ../andante/weights/conv7_5_1x1.syntxt\n",
      "Import ../andante/weights/bn6_3x3_dw.syntxt\n",
      "Import ../andante/weights/bn6_1x1.syntxt\n",
      "Import ../andante/weights/bn7_1_3x3_dw.syntxt\n",
      "Import ../andante/weights/bn7_1_1x1.syntxt\n",
      "Import ../andante/weights/bn7_2_3x3_dw.syntxt\n",
      "Import ../andante/weights/bn7_2_1x1.syntxt\n",
      "Import ../andante/weights/bn7_3_3x3_dw.syntxt\n",
      "Import ../andante/weights/bn7_3_1x1.syntxt\n",
      "Import ../andante/weights/bn7_4_3x3_dw.syntxt\n",
      "Import ../andante/weights/bn7_4_1x1.syntxt\n",
      "Import ../andante/weights/bn7_5_3x3_dw.syntxt\n",
      "Import ../andante/weights/bn7_5_1x1.syntxt\n",
      "Import ../andante/weights/conv8_3x3_dw.syntxt\n",
      "Import ../andante/weights/conv8_1x1.syntxt\n",
      "Import ../andante/weights/conv9_3x3_dw.syntxt\n",
      "Import ../andante/weights/conv9_1x1.syntxt\n",
      "Import ../andante/weights/bn8_3x3_dw.syntxt\n",
      "Import ../andante/weights/bn8_1x1.syntxt\n",
      "Import ../andante/weights/bn9_3x3_dw.syntxt\n",
      "Import ../andante/weights/bn9_1x1.syntxt\n",
      "Import ../andante/weights/fc.syntxt\n"
     ]
    }
   ],
   "source": [
    "# Import model\n",
    "model = neurocorgi_sdk.models.NeuroCorgiNet([1, 3, 224, 224], weights_dir=\"data/imagenet_weights\")"
   ]
  },
  {
   "cell_type": "code",
   "execution_count": 8,
   "metadata": {},
   "outputs": [
    {
     "name": "stdout",
     "output_type": "stream",
     "text": [
      "'DeepNet_0' NeuroCorgiNet(\n",
      "\t(0): 'conv1' Conv(Frame_CUDA<float>)(nb_inputs=3, nb_outputs=32, kernel_dims=[3, 3], sub_sample_dims=[1, 1], stride_dims=[2, 2], padding_dims=[1, 1], dilation_dims=[1, 1])\n",
      "\t(1): 'conv1_3x3_dw' Conv(Frame_CUDA<float>)(nb_inputs=32, nb_outputs=32, kernel_dims=[3, 3], sub_sample_dims=[1, 1], stride_dims=[1, 1], padding_dims=[1, 1], dilation_dims=[1, 1])(['conv1'])\n",
      "\t(2): 'conv1_1x1' Conv(Frame_CUDA<float>)(nb_inputs=32, nb_outputs=64, kernel_dims=[1, 1], sub_sample_dims=[1, 1], stride_dims=[1, 1], padding_dims=[0, 0], dilation_dims=[1, 1])(['conv1_3x3_dw'])\n",
      "\t(3): 'conv2_3x3_dw' Conv(Frame_CUDA<float>)(nb_inputs=64, nb_outputs=64, kernel_dims=[3, 3], sub_sample_dims=[1, 1], stride_dims=[2, 2], padding_dims=[1, 1], dilation_dims=[1, 1])(['conv1_1x1'])\n",
      "\t(4): 'conv2_1x1' Conv(Frame_CUDA<float>)(nb_inputs=64, nb_outputs=128, kernel_dims=[1, 1], sub_sample_dims=[1, 1], stride_dims=[1, 1], padding_dims=[0, 0], dilation_dims=[1, 1])(['conv2_3x3_dw'])\n",
      "\t(5): 'conv3_3x3_dw' Conv(Frame_CUDA<float>)(nb_inputs=128, nb_outputs=128, kernel_dims=[3, 3], sub_sample_dims=[1, 1], stride_dims=[1, 1], padding_dims=[1, 1], dilation_dims=[1, 1])(['conv2_1x1'])\n",
      "\t(6): 'conv3_1x1' Conv(Frame_CUDA<float>)(nb_inputs=128, nb_outputs=128, kernel_dims=[1, 1], sub_sample_dims=[1, 1], stride_dims=[1, 1], padding_dims=[0, 0], dilation_dims=[1, 1])(['conv3_3x3_dw'])\n",
      "\t(7): 'conv4_3x3_dw' Conv(Frame_CUDA<float>)(nb_inputs=128, nb_outputs=128, kernel_dims=[3, 3], sub_sample_dims=[1, 1], stride_dims=[2, 2], padding_dims=[1, 1], dilation_dims=[1, 1])(['conv3_1x1'])\n",
      "\t(8): 'conv4_1x1' Conv(Frame_CUDA<float>)(nb_inputs=128, nb_outputs=256, kernel_dims=[1, 1], sub_sample_dims=[1, 1], stride_dims=[1, 1], padding_dims=[0, 0], dilation_dims=[1, 1])(['conv4_3x3_dw'])\n",
      "\t(9): 'conv5_3x3_dw' Conv(Frame_CUDA<float>)(nb_inputs=256, nb_outputs=256, kernel_dims=[3, 3], sub_sample_dims=[1, 1], stride_dims=[1, 1], padding_dims=[1, 1], dilation_dims=[1, 1])(['conv4_1x1'])\n",
      "\t(10): 'conv5_1x1' Conv(Frame_CUDA<float>)(nb_inputs=256, nb_outputs=256, kernel_dims=[1, 1], sub_sample_dims=[1, 1], stride_dims=[1, 1], padding_dims=[0, 0], dilation_dims=[1, 1])(['conv5_3x3_dw'])\n",
      "\t(11): 'conv6_3x3_dw' Conv(Frame_CUDA<float>)(nb_inputs=256, nb_outputs=256, kernel_dims=[3, 3], sub_sample_dims=[1, 1], stride_dims=[2, 2], padding_dims=[1, 1], dilation_dims=[1, 1])(['conv5_1x1'])\n",
      "\t(12): 'conv6_1x1' Conv(Frame_CUDA<float>)(nb_inputs=256, nb_outputs=512, kernel_dims=[1, 1], sub_sample_dims=[1, 1], stride_dims=[1, 1], padding_dims=[0, 0], dilation_dims=[1, 1])(['conv6_3x3_dw'])\n",
      "\t(13): 'conv7_1_3x3_dw' Conv(Frame_CUDA<float>)(nb_inputs=512, nb_outputs=512, kernel_dims=[3, 3], sub_sample_dims=[1, 1], stride_dims=[1, 1], padding_dims=[1, 1], dilation_dims=[1, 1])(['conv6_1x1'])\n",
      "\t(14): 'conv7_1_1x1' Conv(Frame_CUDA<float>)(nb_inputs=512, nb_outputs=512, kernel_dims=[1, 1], sub_sample_dims=[1, 1], stride_dims=[1, 1], padding_dims=[0, 0], dilation_dims=[1, 1])(['conv7_1_3x3_dw'])\n",
      "\t(15): 'conv7_2_3x3_dw' Conv(Frame_CUDA<float>)(nb_inputs=512, nb_outputs=512, kernel_dims=[3, 3], sub_sample_dims=[1, 1], stride_dims=[1, 1], padding_dims=[1, 1], dilation_dims=[1, 1])(['conv7_1_1x1'])\n",
      "\t(16): 'conv7_2_1x1' Conv(Frame_CUDA<float>)(nb_inputs=512, nb_outputs=512, kernel_dims=[1, 1], sub_sample_dims=[1, 1], stride_dims=[1, 1], padding_dims=[0, 0], dilation_dims=[1, 1])(['conv7_2_3x3_dw'])\n",
      "\t(17): 'conv7_3_3x3_dw' Conv(Frame_CUDA<float>)(nb_inputs=512, nb_outputs=512, kernel_dims=[3, 3], sub_sample_dims=[1, 1], stride_dims=[1, 1], padding_dims=[1, 1], dilation_dims=[1, 1])(['conv7_2_1x1'])\n",
      "\t(18): 'conv7_3_1x1' Conv(Frame_CUDA<float>)(nb_inputs=512, nb_outputs=512, kernel_dims=[1, 1], sub_sample_dims=[1, 1], stride_dims=[1, 1], padding_dims=[0, 0], dilation_dims=[1, 1])(['conv7_3_3x3_dw'])\n",
      "\t(19): 'conv7_4_3x3_dw' Conv(Frame_CUDA<float>)(nb_inputs=512, nb_outputs=512, kernel_dims=[3, 3], sub_sample_dims=[1, 1], stride_dims=[1, 1], padding_dims=[1, 1], dilation_dims=[1, 1])(['conv7_3_1x1'])\n",
      "\t(20): 'conv7_4_1x1' Conv(Frame_CUDA<float>)(nb_inputs=512, nb_outputs=512, kernel_dims=[1, 1], sub_sample_dims=[1, 1], stride_dims=[1, 1], padding_dims=[0, 0], dilation_dims=[1, 1])(['conv7_4_3x3_dw'])\n",
      "\t(21): 'conv7_5_3x3_dw' Conv(Frame_CUDA<float>)(nb_inputs=512, nb_outputs=512, kernel_dims=[3, 3], sub_sample_dims=[1, 1], stride_dims=[1, 1], padding_dims=[1, 1], dilation_dims=[1, 1])(['conv7_4_1x1'])\n",
      "\t(22): 'conv7_5_1x1' Conv(Frame_CUDA<float>)(nb_inputs=512, nb_outputs=512, kernel_dims=[1, 1], sub_sample_dims=[1, 1], stride_dims=[1, 1], padding_dims=[0, 0], dilation_dims=[1, 1])(['conv7_5_3x3_dw'])\n",
      "\t(23): 'conv8_3x3_dw' Conv(Frame_CUDA<float>)(nb_inputs=512, nb_outputs=512, kernel_dims=[3, 3], sub_sample_dims=[1, 1], stride_dims=[2, 2], padding_dims=[1, 1], dilation_dims=[1, 1])(['conv7_5_1x1'])\n",
      "\t(24): 'conv8_1x1' Conv(Frame_CUDA<float>)(nb_inputs=512, nb_outputs=1024, kernel_dims=[1, 1], sub_sample_dims=[1, 1], stride_dims=[1, 1], padding_dims=[0, 0], dilation_dims=[1, 1])(['conv8_3x3_dw'])\n",
      "\t(25): 'conv9_3x3_dw' Conv(Frame_CUDA<float>)(nb_inputs=1024, nb_outputs=1024, kernel_dims=[3, 3], sub_sample_dims=[1, 1], stride_dims=[1, 1], padding_dims=[1, 1], dilation_dims=[1, 1])(['conv8_1x1'])\n",
      "\t(26): 'conv9_1x1' Conv(Frame_CUDA<float>)(nb_inputs=1024, nb_outputs=1024, kernel_dims=[1, 1], sub_sample_dims=[1, 1], stride_dims=[1, 1], padding_dims=[0, 0], dilation_dims=[1, 1])(['conv9_3x3_dw'])\n",
      "\t(27): 'pool1' Pool(Frame_CUDA<float>)(pool_dims=[7, 7], stride_dims=[1, 1], padding_dims=[0, 0], pooling=Pooling.Average)(['conv9_1x1'])\n",
      "\t(28): 'fc' Fc(Frame_CUDA<float>)(nb_inputs=1024, nb_outputs=1000)(['pool1'])\n",
      ")\n"
     ]
    }
   ],
   "source": [
    "print(model)"
   ]
  },
  {
   "cell_type": "code",
   "execution_count": 9,
   "metadata": {},
   "outputs": [],
   "source": [
    "softmax = n2d2.cells.nn.Softmax(with_loss=True)\n",
    "target = n2d2.target.Score(dataloader, top_n=1)"
   ]
  },
  {
   "cell_type": "code",
   "execution_count": 10,
   "metadata": {},
   "outputs": [
    {
     "name": "stdout",
     "output_type": "stream",
     "text": [
      "Test example: 49999, test success: 70.418%\r"
     ]
    }
   ],
   "source": [
    "for i in range(math.ceil(database.get_nb_stimuli('Test'))):\n",
    "\n",
    "    x = dataloader.read_batch(i)\n",
    "    conv3_1x1, conv5_1x1, conv7_5_1x1, conv9_1x1, fc_out = model(x)\n",
    "    pred = softmax(fc_out)\n",
    "    target(pred)\n",
    "\n",
    "    print(\"Test example: \" + str(i) + \", test success: \"\n",
    "          + \"{0:.3f}\".format(100 * target.get_average_success()) + \"%\", end='\\r')"
   ]
  }
 ],
 "metadata": {
  "kernelspec": {
   "display_name": "env",
   "language": "python",
   "name": "python3"
  },
  "language_info": {
   "codemirror_mode": {
    "name": "ipython",
    "version": 3
   },
   "file_extension": ".py",
   "mimetype": "text/x-python",
   "name": "python",
   "nbconvert_exporter": "python",
   "pygments_lexer": "ipython3",
   "version": "3.8.10"
  },
  "orig_nbformat": 4,
  "vscode": {
   "interpreter": {
    "hash": "a948bba95821b0c9c13943546c3ceee9666ce731755beb42894160f547c6eef1"
   }
  }
 },
 "nbformat": 4,
 "nbformat_minor": 2
}
